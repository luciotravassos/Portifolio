{
 "cells": [
  {
   "cell_type": "code",
   "execution_count": null,
   "metadata": {},
   "outputs": [],
   "source": [
    "#utilização de bibliotecas especificas para a área de atuação"
   ]
  },
  {
   "cell_type": "markdown",
   "metadata": {},
   "source": [
    "# Bibliotecas"
   ]
  },
  {
   "cell_type": "code",
   "execution_count": 1,
   "metadata": {},
   "outputs": [
    {
     "name": "stdout",
     "output_type": "stream",
     "text": [
      "importing Jupyter notebook from pacote_ebs.ipynb\n"
     ]
    }
   ],
   "source": [
    "import import_ipynb                 #    Biblioteca para importar outros arquivos jupyter\n",
    "import warnings                     #    É uma bibliote para ignorar os warnings do ambiente\n",
    "import pandas as pd \n",
    "import numpy as np\n",
    "#Banco \n",
    "import cx_Oracle\n",
    "import os\n",
    "import platform\n",
    "import config\n",
    "import sqlalchemy as sqla                  #    Biblioteca para conectar vários bancos de dados via python\n",
    "import sqlalchemy.dialects.sqlite          #    É uma das muitas funcionalidades do sqlalchemy \n",
    "import pymysql as sql                      #    Biblioteca para conectar exclusivamente o mysql via python\n",
    "from sqlalchemy import create_engine\n",
    "import boto3\n",
    "from boto3.dynamodb.conditions import Key, Attr\n",
    "# Modulo FTP\n",
    "import ftplib\n",
    "from ftplib import FTP\n",
    "import matplotlib.pyplot as plt             \n",
    "%matplotlib inline  \n",
    "plt.style.use('ggplot')                    \n",
    "#schedule\n",
    "import sched as sch\n",
    "import schedule\n",
    "import time\n",
    "from time import sleep\n",
    "import threading\n",
    "#import _thread\n",
    "from threading import Thread\n",
    "from datetime import datetime, timedelta, date\n",
    "import pacote_ebs as pct"
   ]
  },
  {
   "cell_type": "markdown",
   "metadata": {},
   "source": [
    "# Banco de Dados Oracle"
   ]
  },
  {
   "cell_type": "code",
   "execution_count": null,
   "metadata": {},
   "outputs": [],
   "source": [
    "def geral():\n",
    "    geral = pd.read_sql(\"\"\"select username, account_status from dba_users where username in('SYS','SYSTEM')\"\"\",engine)\n",
    "    return geral"
   ]
  },
  {
   "cell_type": "code",
   "execution_count": 4,
   "metadata": {},
   "outputs": [],
   "source": [
    "LOCATION = r\"D:\\Users\\luciotravassos\\Downloads\\instantclient-basic-windows.x64-11.2.0.4.0\\instantclient-basic-windows.x64-11.2.0.4.0\\instantclient_11_2\"\n",
    "os.environ[\"PATH\"] = LOCATION + \";\" + os.environ[\"PATH\"]"
   ]
  },
  {
   "cell_type": "code",
   "execution_count": null,
   "metadata": {},
   "outputs": [],
   "source": [
    "# Uma das inúmeras possibilidades é criar funções com foco em ambientes Oracle, no caso abaixo para RMAN."
   ]
  },
  {
   "cell_type": "code",
   "execution_count": 7,
   "metadata": {},
   "outputs": [
    {
     "name": "stdout",
     "output_type": "stream",
     "text": [
      "Wall time: 966 ms\n"
     ]
    },
    {
     "data": {
      "text/html": [
       "<div>\n",
       "<style scoped>\n",
       "    .dataframe tbody tr th:only-of-type {\n",
       "        vertical-align: middle;\n",
       "    }\n",
       "\n",
       "    .dataframe tbody tr th {\n",
       "        vertical-align: top;\n",
       "    }\n",
       "\n",
       "    .dataframe thead th {\n",
       "        text-align: right;\n",
       "    }\n",
       "</style>\n",
       "<table border=\"1\" class=\"dataframe\">\n",
       "  <thead>\n",
       "    <tr style=\"text-align: right;\">\n",
       "      <th></th>\n",
       "      <th>session_stamp</th>\n",
       "      <th>session_recid</th>\n",
       "      <th>session_key</th>\n",
       "      <th>input_type</th>\n",
       "      <th>status</th>\n",
       "      <th>start_time</th>\n",
       "      <th>end_time</th>\n",
       "      <th>minutos</th>\n",
       "      <th>input_bytes_display</th>\n",
       "    </tr>\n",
       "  </thead>\n",
       "  <tbody>\n",
       "    <tr>\n",
       "      <th>0</th>\n",
       "      <td>1063864333</td>\n",
       "      <td>15261</td>\n",
       "      <td>15261</td>\n",
       "      <td>DB FULL</td>\n",
       "      <td>COMPLETED</td>\n",
       "      <td>07/02/21 05:52</td>\n",
       "      <td>08/02/21 14:27</td>\n",
       "      <td>1954.466667</td>\n",
       "      <td>6.82T</td>\n",
       "    </tr>\n",
       "    <tr>\n",
       "      <th>1</th>\n",
       "      <td>1063320767</td>\n",
       "      <td>15237</td>\n",
       "      <td>15237</td>\n",
       "      <td>DB FULL</td>\n",
       "      <td>COMPLETED</td>\n",
       "      <td>31/01/21 22:53</td>\n",
       "      <td>02/02/21 10:42</td>\n",
       "      <td>2149.616667</td>\n",
       "      <td>6.76T</td>\n",
       "    </tr>\n",
       "  </tbody>\n",
       "</table>\n",
       "</div>"
      ],
      "text/plain": [
       "   session_stamp  session_recid  session_key input_type     status  \\\n",
       "0     1063864333          15261        15261    DB FULL  COMPLETED   \n",
       "1     1063320767          15237        15237    DB FULL  COMPLETED   \n",
       "\n",
       "       start_time        end_time      minutos input_bytes_display  \n",
       "0  07/02/21 05:52  08/02/21 14:27  1954.466667               6.82T  \n",
       "1  31/01/21 22:53  02/02/21 10:42  2149.616667               6.76T  "
      ]
     },
     "execution_count": 7,
     "metadata": {},
     "output_type": "execute_result"
    }
   ],
   "source": [
    "%time backup_full = pct.backup_full()\n",
    "backup_full.head(2)"
   ]
  },
  {
   "cell_type": "markdown",
   "metadata": {},
   "source": [
    "# Oracle EBS R12"
   ]
  },
  {
   "cell_type": "code",
   "execution_count": null,
   "metadata": {},
   "outputs": [],
   "source": [
    "#Desenvolvendo funções especificas para Oracle R12 é possível monitorar e atuar em serviços do ambiente."
   ]
  },
  {
   "cell_type": "code",
   "execution_count": 8,
   "metadata": {},
   "outputs": [
    {
     "name": "stdout",
     "output_type": "stream",
     "text": [
      "Wall time: 763 ms\n"
     ]
    },
    {
     "data": {
      "text/html": [
       "<div>\n",
       "<style scoped>\n",
       "    .dataframe tbody tr th:only-of-type {\n",
       "        vertical-align: middle;\n",
       "    }\n",
       "\n",
       "    .dataframe tbody tr th {\n",
       "        vertical-align: top;\n",
       "    }\n",
       "\n",
       "    .dataframe thead th {\n",
       "        text-align: right;\n",
       "    }\n",
       "</style>\n",
       "<table border=\"1\" class=\"dataframe\">\n",
       "  <thead>\n",
       "    <tr style=\"text-align: right;\">\n",
       "      <th></th>\n",
       "      <th>component_id</th>\n",
       "      <th>component_name</th>\n",
       "      <th>component_status</th>\n",
       "    </tr>\n",
       "  </thead>\n",
       "  <tbody>\n",
       "    <tr>\n",
       "      <th>0</th>\n",
       "      <td>10000</td>\n",
       "      <td>ECX Inbound Agent Listener</td>\n",
       "      <td>RUNNING</td>\n",
       "    </tr>\n",
       "    <tr>\n",
       "      <th>1</th>\n",
       "      <td>10001</td>\n",
       "      <td>ECX Transaction Agent Listener</td>\n",
       "      <td>RUNNING</td>\n",
       "    </tr>\n",
       "    <tr>\n",
       "      <th>2</th>\n",
       "      <td>10002</td>\n",
       "      <td>Workflow Deferred Agent Listener</td>\n",
       "      <td>RUNNING</td>\n",
       "    </tr>\n",
       "    <tr>\n",
       "      <th>3</th>\n",
       "      <td>10003</td>\n",
       "      <td>Workflow Deferred Notification Agent Listener</td>\n",
       "      <td>RUNNING</td>\n",
       "    </tr>\n",
       "    <tr>\n",
       "      <th>4</th>\n",
       "      <td>10004</td>\n",
       "      <td>Workflow Error Agent Listener</td>\n",
       "      <td>RUNNING</td>\n",
       "    </tr>\n",
       "  </tbody>\n",
       "</table>\n",
       "</div>"
      ],
      "text/plain": [
       "   component_id                                 component_name  \\\n",
       "0         10000                     ECX Inbound Agent Listener   \n",
       "1         10001                 ECX Transaction Agent Listener   \n",
       "2         10002               Workflow Deferred Agent Listener   \n",
       "3         10003  Workflow Deferred Notification Agent Listener   \n",
       "4         10004                  Workflow Error Agent Listener   \n",
       "\n",
       "  component_status  \n",
       "0          RUNNING  \n",
       "1          RUNNING  \n",
       "2          RUNNING  \n",
       "3          RUNNING  \n",
       "4          RUNNING  "
      ]
     },
     "execution_count": 8,
     "metadata": {},
     "output_type": "execute_result"
    }
   ],
   "source": [
    "%time wfsts = pct.wfsts()\n",
    "wfsts.head(5)"
   ]
  },
  {
   "cell_type": "markdown",
   "metadata": {},
   "source": [
    "# Sistema Operacional"
   ]
  },
  {
   "cell_type": "markdown",
   "metadata": {},
   "source": [
    "SSH"
   ]
  },
  {
   "cell_type": "code",
   "execution_count": null,
   "metadata": {},
   "outputs": [],
   "source": [
    "#Com utilitários como ssh, telnet e features dos ambientes Unix e Windows é possível ter acessos e realizar atividades."
   ]
  },
  {
   "cell_type": "code",
   "execution_count": 19,
   "metadata": {},
   "outputs": [],
   "source": [
    "pct.ssh(hostname = ip, cmd = ' df -hT /tmp ;  date')"
   ]
  },
  {
   "cell_type": "markdown",
   "metadata": {},
   "source": [
    "Performance de Sistema Operacional"
   ]
  },
  {
   "cell_type": "code",
   "execution_count": null,
   "metadata": {},
   "outputs": [],
   "source": [
    "for i in range(2):\n",
    "    #print(100 * '=')\n",
    "    pct.ssh(hostname = ip, cmd = 'vmstat ')\n",
    "    #print(time.ctime())\n",
    "    print(f'vezes {i}')\n",
    "    #print(100 * '=')\n",
    "    sleep(2)"
   ]
  },
  {
   "cell_type": "code",
   "execution_count": null,
   "metadata": {},
   "outputs": [],
   "source": []
  }
 ],
 "metadata": {
  "kernelspec": {
   "display_name": "Python 3",
   "language": "python",
   "name": "python3"
  },
  "language_info": {
   "codemirror_mode": {
    "name": "ipython",
    "version": 3
   },
   "file_extension": ".py",
   "mimetype": "text/x-python",
   "name": "python",
   "nbconvert_exporter": "python",
   "pygments_lexer": "ipython3",
   "version": "3.8.3"
  }
 },
 "nbformat": 4,
 "nbformat_minor": 4
}
