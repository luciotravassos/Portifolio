{
 "cells": [
  {
   "cell_type": "code",
   "execution_count": null,
   "metadata": {},
   "outputs": [],
   "source": [
    "#utilização de bibliotecas especificas para a área de atuação"
   ]
  },
  {
   "cell_type": "markdown",
   "metadata": {},
   "source": [
    "# Bibliotecas"
   ]
  },
  {
   "cell_type": "code",
   "execution_count": 2,
   "metadata": {},
   "outputs": [
    {
     "name": "stdout",
     "output_type": "stream",
     "text": [
      "importing Jupyter notebook from Investimentos_Functions.ipynb\n"
     ]
    },
    {
     "name": "stderr",
     "output_type": "stream",
     "text": [
      "2021-02-10 22:43:00,188 [logging.log_init] INFO: LOGLEVEL=INFO\n"
     ]
    },
    {
     "data": {
      "text/html": [
       "        <script type=\"text/javascript\">\n",
       "        window.PlotlyConfig = {MathJaxConfig: 'local'};\n",
       "        if (window.MathJax) {MathJax.Hub.Config({SVG: {font: \"STIX-Web\"}});}\n",
       "        if (typeof require !== 'undefined') {\n",
       "        require.undef(\"plotly\");\n",
       "        requirejs.config({\n",
       "            paths: {\n",
       "                'plotly': ['https://cdn.plot.ly/plotly-latest.min']\n",
       "            }\n",
       "        });\n",
       "        require(['plotly'], function(Plotly) {\n",
       "            window._Plotly = Plotly;\n",
       "        });\n",
       "        }\n",
       "        </script>\n",
       "        "
      ]
     },
     "metadata": {},
     "output_type": "display_data"
    },
    {
     "name": "stdout",
     "output_type": "stream",
     "text": [
      "Conectado com sucesso  !!!\n",
      "Conectado com sucesso  !!!\n"
     ]
    },
    {
     "data": {
      "text/html": [
       "        <script type=\"text/javascript\">\n",
       "        window.PlotlyConfig = {MathJaxConfig: 'local'};\n",
       "        if (window.MathJax) {MathJax.Hub.Config({SVG: {font: \"STIX-Web\"}});}\n",
       "        if (typeof require !== 'undefined') {\n",
       "        require.undef(\"plotly\");\n",
       "        requirejs.config({\n",
       "            paths: {\n",
       "                'plotly': ['https://cdn.plot.ly/plotly-latest.min']\n",
       "            }\n",
       "        });\n",
       "        require(['plotly'], function(Plotly) {\n",
       "            window._Plotly = Plotly;\n",
       "        });\n",
       "        }\n",
       "        </script>\n",
       "        "
      ]
     },
     "metadata": {},
     "output_type": "display_data"
    },
    {
     "data": {
      "text/html": [
       "        <script type=\"text/javascript\">\n",
       "        window.PlotlyConfig = {MathJaxConfig: 'local'};\n",
       "        if (window.MathJax) {MathJax.Hub.Config({SVG: {font: \"STIX-Web\"}});}\n",
       "        if (typeof require !== 'undefined') {\n",
       "        require.undef(\"plotly\");\n",
       "        requirejs.config({\n",
       "            paths: {\n",
       "                'plotly': ['https://cdn.plot.ly/plotly-latest.min']\n",
       "            }\n",
       "        });\n",
       "        require(['plotly'], function(Plotly) {\n",
       "            window._Plotly = Plotly;\n",
       "        });\n",
       "        }\n",
       "        </script>\n",
       "        "
      ]
     },
     "metadata": {},
     "output_type": "display_data"
    }
   ],
   "source": [
    "#BIBLIOTECAS USADAS\n",
    "import warnings                     #    É uma bibliote para ignorar os warnings do ambiente\n",
    "import import_ipynb                 #    Biblioteca para usar outros arquivos do jupyter como pacote\n",
    "# Ignorando warnings desncessários\n",
    "warnings.filterwarnings('ignore')\n",
    "import Investimentos_Functions as invest\n",
    "import yahoo_fin.stock_info as si\n",
    "#Analiticos\n",
    "import pandas as pd                 #    Pandas é uma biblioteca para análise de dados\n",
    "#banco de dados\n",
    "import sqlalchemy as sql            #    Biblioteca para conectar vários bancos de dados via python\n",
    "import sqlalchemy.dialects.sqlite   #    É uma das muitas funcionalidades do sqlalchemy \n",
    "import pymysql as sql               #    Biblioteca para conectar exclusivamente o mysql via python\n",
    "#Graficos\n",
    "import plotly as ly                 #    Biblioteca para gráficos à partir de dados que possui cadlesticks\n",
    "import plotly.offline as py         #    É uma das muitas funcionalidades do plotly \n",
    "import plotly.graph_objs as go      #    É uma das muitas funcionalidades do plotly \n",
    "#Preparando o plotly\n",
    "#Primeiro vamos habilitar o modo offline\n",
    "from plotly.offline import plot, iplot\n",
    "ly.offline.init_notebook_mode(connected=True)\n",
    "import os\n",
    "#Primeiro vamos habilitar o modo offline\n",
    "from plotly.offline import plot, iplot\n",
    "ly.offline.init_notebook_mode(connected=True)\n",
    "#banco de dados\n",
    "import sqlalchemy as sql            #    Biblioteca para conectar vários bancos de dados via python\n",
    "import sqlalchemy.dialects.sqlite   #    É uma das muitas funcionalidades do sqlalchemy \n",
    "import pymysql as sql               #    Biblioteca para conectar exclusivamente o mysql via python"
   ]
  },
  {
   "cell_type": "code",
   "execution_count": 4,
   "metadata": {},
   "outputs": [],
   "source": [
    "no_radar = [\"SULA4\",\"WHRL3\",\"TAEE4\",\"VALE3\"]"
   ]
  },
  {
   "cell_type": "code",
   "execution_count": 5,
   "metadata": {},
   "outputs": [
    {
     "name": "stderr",
     "output_type": "stream",
     "text": [
      "2021-02-10 22:44:17,549 [utils._init_num_threads] INFO: NumExpr defaulting to 2 threads.\n"
     ]
    },
    {
     "data": {
      "text/plain": [
       "[' SULA4.SA Date\\n2021-02-10    11.83\\nName: Close, dtype: float64 0.66 (5.41%)',\n",
       " ' WHRL3.SA Date\\n2021-02-10    7.37\\nName: Close, dtype: float64 1.21 (16.75%)',\n",
       " ' TAEE4.SA Date\\n2021-02-10    10.9\\nName: Close, dtype: float64 1.01 (9.22%)',\n",
       " ' VALE3.SA Date\\n2021-02-10    94.699997\\nName: Close, dtype: float64 9.63 (10.22%)']"
      ]
     },
     "execution_count": 5,
     "metadata": {},
     "output_type": "execute_result"
    }
   ],
   "source": [
    "Percentuais_de_dividendos = invest.valor_divendos(no_radar)\n",
    "Percentuais_de_dividendos"
   ]
  },
  {
   "cell_type": "code",
   "execution_count": 6,
   "metadata": {},
   "outputs": [],
   "source": [
    "analisar = 'ENAT3'"
   ]
  },
  {
   "cell_type": "code",
   "execution_count": 7,
   "metadata": {},
   "outputs": [
    {
     "data": {
      "text/html": [
       "<div>\n",
       "<style scoped>\n",
       "    .dataframe tbody tr th:only-of-type {\n",
       "        vertical-align: middle;\n",
       "    }\n",
       "\n",
       "    .dataframe tbody tr th {\n",
       "        vertical-align: top;\n",
       "    }\n",
       "\n",
       "    .dataframe thead th {\n",
       "        text-align: right;\n",
       "    }\n",
       "</style>\n",
       "<table border=\"1\" class=\"dataframe\">\n",
       "  <thead>\n",
       "    <tr style=\"text-align: right;\">\n",
       "      <th></th>\n",
       "      <th>Stock</th>\n",
       "      <th>Close</th>\n",
       "      <th>Range</th>\n",
       "      <th>Receita</th>\n",
       "      <th>Open</th>\n",
       "      <th>52w</th>\n",
       "      <th>LPA</th>\n",
       "      <th>Volume</th>\n",
       "      <th>Market Cap</th>\n",
       "      <th>Dividend (Yield)</th>\n",
       "      <th>Average Vol. (3m)</th>\n",
       "      <th>P/L</th>\n",
       "      <th>Beta</th>\n",
       "      <th>1-Year Change</th>\n",
       "      <th>Nro. Ações</th>\n",
       "      <th>Prox.Bal.</th>\n",
       "    </tr>\n",
       "  </thead>\n",
       "  <tbody>\n",
       "    <tr>\n",
       "      <th>0</th>\n",
       "      <td>ENAT3</td>\n",
       "      <td>12.24</td>\n",
       "      <td>12.15 - 12.63</td>\n",
       "      <td>1.160000e+09</td>\n",
       "      <td>12.42</td>\n",
       "      <td>6.04 - 16.86</td>\n",
       "      <td>1.32</td>\n",
       "      <td>1760100.0</td>\n",
       "      <td>3.210000e+09</td>\n",
       "      <td>1.14 (9.18%)</td>\n",
       "      <td>1815549.0</td>\n",
       "      <td>9.44</td>\n",
       "      <td>0.94</td>\n",
       "      <td>- 22.73%</td>\n",
       "      <td>262540370.0</td>\n",
       "      <td>22/03/2021</td>\n",
       "    </tr>\n",
       "  </tbody>\n",
       "</table>\n",
       "</div>"
      ],
      "text/plain": [
       "   Stock  Close          Range       Receita   Open           52w   LPA  \\\n",
       "0  ENAT3  12.24  12.15 - 12.63  1.160000e+09  12.42  6.04 - 16.86  1.32   \n",
       "\n",
       "      Volume    Market Cap Dividend (Yield)  Average Vol. (3m)   P/L  Beta  \\\n",
       "0  1760100.0  3.210000e+09     1.14 (9.18%)          1815549.0  9.44  0.94   \n",
       "\n",
       "  1-Year Change   Nro. Ações   Prox.Bal.  \n",
       "0      - 22.73%  262540370.0  22/03/2021  "
      ]
     },
     "execution_count": 7,
     "metadata": {},
     "output_type": "execute_result"
    }
   ],
   "source": [
    "Details = invest.infos(analisar)\n",
    "Details"
   ]
  },
  {
   "cell_type": "code",
   "execution_count": 8,
   "metadata": {},
   "outputs": [
    {
     "data": {
      "text/plain": [
       "{'url': 'https://www.investing.com/equities/qgep-part-on-nm-company-profile',\n",
       " 'desc': 'Enauta Participacoes SA, formerly known as QGEP Participacoes SA and Latina Participacoes SA, is a Brazil-based company principally engaged in the oil and gas industry. The Company operates through single segment: Oil and gas exploration and production, which focuses on the exploration, production, industrial processing and marketing of crude oil, natural gas and its derivatives. The Company holds interests in exploration and production concessions located in the offshore Brazilian continental margin. Its asset localizations include various basins, such as Santos, Espirito Santo, Camamu-Almada, Camamu-Almada, Pernambuco-Paraiba, Ceara and Foz do Amazonas. The Company is a subsidiary of Queiroz Galvao SA.'}"
      ]
     },
     "execution_count": 8,
     "metadata": {},
     "output_type": "execute_result"
    }
   ],
   "source": [
    "Perfil = invest.profile(analisar)\n",
    "Perfil"
   ]
  },
  {
   "cell_type": "code",
   "execution_count": 9,
   "metadata": {},
   "outputs": [
    {
     "name": "stdout",
     "output_type": "stream",
     "text": [
      "Dividendos ao ano em percentual\n"
     ]
    },
    {
     "data": {
      "text/plain": [
       "'1.14 (9.18%)'"
      ]
     },
     "execution_count": 9,
     "metadata": {},
     "output_type": "execute_result"
    }
   ],
   "source": [
    "dividendos = invest.yeld(analisar)\n",
    "dividendos"
   ]
  },
  {
   "cell_type": "code",
   "execution_count": 10,
   "metadata": {},
   "outputs": [
    {
     "data": {
      "text/plain": [
       "Date\n",
       "2011-05-02    0.000400\n",
       "2012-04-17    0.000003\n",
       "2013-04-22    0.000003\n",
       "2014-04-17    0.155128\n",
       "2015-04-20    0.150000\n",
       "2017-04-20    0.150000\n",
       "2018-04-12    1.536326\n",
       "2019-04-18    1.910000\n",
       "2019-04-22    1.906848\n",
       "2020-04-17    1.142694\n",
       "Name: Dividends, dtype: float64"
      ]
     },
     "execution_count": 10,
     "metadata": {},
     "output_type": "execute_result"
    }
   ],
   "source": [
    "yeld = invest.stock_info(analisar)\n",
    "yeld = yeld.dividends\n",
    "yeld.tail(10)"
   ]
  },
  {
   "cell_type": "code",
   "execution_count": 11,
   "metadata": {},
   "outputs": [
    {
     "data": {
      "text/html": [
       "<div>\n",
       "<style scoped>\n",
       "    .dataframe tbody tr th:only-of-type {\n",
       "        vertical-align: middle;\n",
       "    }\n",
       "\n",
       "    .dataframe tbody tr th {\n",
       "        vertical-align: top;\n",
       "    }\n",
       "\n",
       "    .dataframe thead th {\n",
       "        text-align: right;\n",
       "    }\n",
       "</style>\n",
       "<table border=\"1\" class=\"dataframe\">\n",
       "  <thead>\n",
       "    <tr style=\"text-align: right;\">\n",
       "      <th></th>\n",
       "      <th>High</th>\n",
       "      <th>Low</th>\n",
       "      <th>Open</th>\n",
       "      <th>Close</th>\n",
       "      <th>Volume</th>\n",
       "      <th>Adj Close</th>\n",
       "    </tr>\n",
       "    <tr>\n",
       "      <th>Date</th>\n",
       "      <th></th>\n",
       "      <th></th>\n",
       "      <th></th>\n",
       "      <th></th>\n",
       "      <th></th>\n",
       "      <th></th>\n",
       "    </tr>\n",
       "  </thead>\n",
       "  <tbody>\n",
       "    <tr>\n",
       "      <th>2021-02-04</th>\n",
       "      <td>12.37</td>\n",
       "      <td>12.09</td>\n",
       "      <td>12.27</td>\n",
       "      <td>12.11</td>\n",
       "      <td>953800.0</td>\n",
       "      <td>12.11</td>\n",
       "    </tr>\n",
       "    <tr>\n",
       "      <th>2021-02-05</th>\n",
       "      <td>12.53</td>\n",
       "      <td>12.13</td>\n",
       "      <td>12.19</td>\n",
       "      <td>12.36</td>\n",
       "      <td>1177100.0</td>\n",
       "      <td>12.36</td>\n",
       "    </tr>\n",
       "    <tr>\n",
       "      <th>2021-02-08</th>\n",
       "      <td>12.49</td>\n",
       "      <td>12.13</td>\n",
       "      <td>12.30</td>\n",
       "      <td>12.30</td>\n",
       "      <td>1521300.0</td>\n",
       "      <td>12.30</td>\n",
       "    </tr>\n",
       "    <tr>\n",
       "      <th>2021-02-09</th>\n",
       "      <td>12.62</td>\n",
       "      <td>12.21</td>\n",
       "      <td>12.30</td>\n",
       "      <td>12.45</td>\n",
       "      <td>1871300.0</td>\n",
       "      <td>12.45</td>\n",
       "    </tr>\n",
       "    <tr>\n",
       "      <th>2021-02-10</th>\n",
       "      <td>0.00</td>\n",
       "      <td>0.00</td>\n",
       "      <td>0.00</td>\n",
       "      <td>12.24</td>\n",
       "      <td>0.0</td>\n",
       "      <td>12.24</td>\n",
       "    </tr>\n",
       "  </tbody>\n",
       "</table>\n",
       "</div>"
      ],
      "text/plain": [
       "             High    Low   Open  Close     Volume  Adj Close\n",
       "Date                                                        \n",
       "2021-02-04  12.37  12.09  12.27  12.11   953800.0      12.11\n",
       "2021-02-05  12.53  12.13  12.19  12.36  1177100.0      12.36\n",
       "2021-02-08  12.49  12.13  12.30  12.30  1521300.0      12.30\n",
       "2021-02-09  12.62  12.21  12.30  12.45  1871300.0      12.45\n",
       "2021-02-10   0.00   0.00   0.00  12.24        0.0      12.24"
      ]
     },
     "execution_count": 11,
     "metadata": {},
     "output_type": "execute_result"
    }
   ],
   "source": [
    "Consultar = invest.paper(analisar)\n",
    "Consultar = Consultar.tail(60)\n",
    "Consulta = Consultar.tail(5)\n",
    "Consulta#.describe()"
   ]
  },
  {
   "cell_type": "code",
   "execution_count": 12,
   "metadata": {},
   "outputs": [
    {
     "data": {
      "text/html": [
       "<div>\n",
       "<style scoped>\n",
       "    .dataframe tbody tr th:only-of-type {\n",
       "        vertical-align: middle;\n",
       "    }\n",
       "\n",
       "    .dataframe tbody tr th {\n",
       "        vertical-align: top;\n",
       "    }\n",
       "\n",
       "    .dataframe thead th {\n",
       "        text-align: right;\n",
       "    }\n",
       "</style>\n",
       "<table border=\"1\" class=\"dataframe\">\n",
       "  <thead>\n",
       "    <tr style=\"text-align: right;\">\n",
       "      <th></th>\n",
       "      <th>High</th>\n",
       "      <th>Low</th>\n",
       "      <th>Open</th>\n",
       "      <th>Close</th>\n",
       "      <th>Volume</th>\n",
       "      <th>Adj Close</th>\n",
       "    </tr>\n",
       "  </thead>\n",
       "  <tbody>\n",
       "    <tr>\n",
       "      <th>count</th>\n",
       "      <td>5.000000</td>\n",
       "      <td>5.000000</td>\n",
       "      <td>5.000000</td>\n",
       "      <td>5.000000</td>\n",
       "      <td>5.000000e+00</td>\n",
       "      <td>5.000000</td>\n",
       "    </tr>\n",
       "    <tr>\n",
       "      <th>mean</th>\n",
       "      <td>10.002000</td>\n",
       "      <td>9.712000</td>\n",
       "      <td>9.812000</td>\n",
       "      <td>12.292000</td>\n",
       "      <td>1.104700e+06</td>\n",
       "      <td>12.292000</td>\n",
       "    </tr>\n",
       "    <tr>\n",
       "      <th>std</th>\n",
       "      <td>5.592009</td>\n",
       "      <td>5.429348</td>\n",
       "      <td>5.485259</td>\n",
       "      <td>0.127945</td>\n",
       "      <td>7.088028e+05</td>\n",
       "      <td>0.127945</td>\n",
       "    </tr>\n",
       "    <tr>\n",
       "      <th>min</th>\n",
       "      <td>0.000000</td>\n",
       "      <td>0.000000</td>\n",
       "      <td>0.000000</td>\n",
       "      <td>12.110000</td>\n",
       "      <td>0.000000e+00</td>\n",
       "      <td>12.110000</td>\n",
       "    </tr>\n",
       "    <tr>\n",
       "      <th>25%</th>\n",
       "      <td>12.370000</td>\n",
       "      <td>12.090000</td>\n",
       "      <td>12.190000</td>\n",
       "      <td>12.240000</td>\n",
       "      <td>9.538000e+05</td>\n",
       "      <td>12.240000</td>\n",
       "    </tr>\n",
       "    <tr>\n",
       "      <th>50%</th>\n",
       "      <td>12.490000</td>\n",
       "      <td>12.130000</td>\n",
       "      <td>12.270000</td>\n",
       "      <td>12.300000</td>\n",
       "      <td>1.177100e+06</td>\n",
       "      <td>12.300000</td>\n",
       "    </tr>\n",
       "    <tr>\n",
       "      <th>75%</th>\n",
       "      <td>12.530000</td>\n",
       "      <td>12.130000</td>\n",
       "      <td>12.300000</td>\n",
       "      <td>12.360000</td>\n",
       "      <td>1.521300e+06</td>\n",
       "      <td>12.360000</td>\n",
       "    </tr>\n",
       "    <tr>\n",
       "      <th>max</th>\n",
       "      <td>12.620000</td>\n",
       "      <td>12.210000</td>\n",
       "      <td>12.300000</td>\n",
       "      <td>12.450000</td>\n",
       "      <td>1.871300e+06</td>\n",
       "      <td>12.450000</td>\n",
       "    </tr>\n",
       "  </tbody>\n",
       "</table>\n",
       "</div>"
      ],
      "text/plain": [
       "            High        Low       Open      Close        Volume  Adj Close\n",
       "count   5.000000   5.000000   5.000000   5.000000  5.000000e+00   5.000000\n",
       "mean   10.002000   9.712000   9.812000  12.292000  1.104700e+06  12.292000\n",
       "std     5.592009   5.429348   5.485259   0.127945  7.088028e+05   0.127945\n",
       "min     0.000000   0.000000   0.000000  12.110000  0.000000e+00  12.110000\n",
       "25%    12.370000  12.090000  12.190000  12.240000  9.538000e+05  12.240000\n",
       "50%    12.490000  12.130000  12.270000  12.300000  1.177100e+06  12.300000\n",
       "75%    12.530000  12.130000  12.300000  12.360000  1.521300e+06  12.360000\n",
       "max    12.620000  12.210000  12.300000  12.450000  1.871300e+06  12.450000"
      ]
     },
     "execution_count": 12,
     "metadata": {},
     "output_type": "execute_result"
    }
   ],
   "source": [
    "Consulta.describe()"
   ]
  },
  {
   "cell_type": "code",
   "execution_count": 13,
   "metadata": {},
   "outputs": [
    {
     "data": {
      "application/vnd.plotly.v1+json": {
       "config": {
        "plotlyServerURL": "https://plot.ly"
       },
       "data": [
        {
         "close": [
          9.449999809265137,
          9.760000228881836,
          9.880000114440918,
          9.789999961853027,
          10.079999923706055,
          10.0600004196167,
          10.470000267028809,
          10.1899995803833,
          10.5,
          10.890000343322754,
          10.819999694824219,
          10.890000343322754,
          10.350000381469727,
          10.260000228881836,
          10.390000343322754,
          10.40999984741211,
          10.6899995803833,
          11.350000381469727,
          10.819999694824219,
          10.539999961853027,
          10.710000038146973,
          11.210000038146973,
          11.119999885559082,
          11.180000305175781,
          11.130000114440918,
          11.239999771118164,
          11.199999809265137,
          11.069999694824219,
          11.069999694824219,
          11.4399995803833,
          11.510000228881836,
          11.640000343322754,
          11.850000381469727,
          12.029999732971191,
          12.399999618530273,
          12,
          12.029999732971191,
          12.260000228881836,
          12.289999961853027,
          12.15999984741211,
          12.180000305175781,
          12.520000457763672,
          12.170000076293945,
          12.149999618530273,
          12.130000114440918,
          11.789999961853027,
          11.829999923706055,
          11.640000343322754,
          11.59000015258789,
          11.399999618530273,
          11.770000457763672,
          11.520000457763672,
          11.770000457763672,
          12.050000190734863,
          12.25,
          12.109999656677246,
          12.359999656677246,
          12.300000190734863,
          12.449999809265137,
          12.239999771118164
         ],
         "high": [
          9.800000190734863,
          10.34000015258789,
          9.979999542236328,
          10.199999809265137,
          10.279999732971191,
          10.579999923706055,
          10.510000228881836,
          10.34000015258789,
          10.670000076293945,
          10.890000343322754,
          10.979999542236328,
          11.109999656677246,
          10.949999809265137,
          10.619999885559082,
          10.520000457763672,
          10.470000267028809,
          10.850000381469727,
          11.520000457763672,
          11.380000114440918,
          10.970000267028809,
          10.84000015258789,
          11.25,
          11.609999656677246,
          11.319999694824219,
          11.260000228881836,
          11.369999885559082,
          11.300000190734863,
          11.25,
          11.479999542236328,
          11.5,
          11.859999656677246,
          11.970000267028809,
          11.880000114440918,
          12.260000228881836,
          12.399999618530273,
          12.430000305175781,
          12.329999923706055,
          12.550000190734863,
          12.539999961853027,
          12.479999542236328,
          12.399999618530273,
          12.739999771118164,
          12.520000457763672,
          12.40999984741211,
          12.260000228881836,
          12.220000267028809,
          12.130000114440918,
          11.710000038146973,
          11.9399995803833,
          11.680000305175781,
          11.779999732971191,
          11.829999923706055,
          11.899999618530273,
          12.239999771118164,
          12.3100004196167,
          12.369999885559082,
          12.529999732971191,
          12.489999771118164,
          12.619999885559082,
          0
         ],
         "low": [
          9.449999809265137,
          9.479999542236328,
          9.680000305175781,
          9.789999961853027,
          9.649999618530273,
          10.0600004196167,
          9.850000381469727,
          10.039999961853027,
          10.170000076293945,
          10.479999542236328,
          10.710000038146973,
          10.779999732971191,
          10.350000381469727,
          10.130000114440918,
          10.210000038146973,
          10.25,
          10.4399995803833,
          10.710000038146973,
          10.739999771118164,
          10.5,
          10.380000114440918,
          10.699999809265137,
          11.100000381469727,
          11.079999923706055,
          10.890000343322754,
          11.100000381469727,
          11.130000114440918,
          10.609999656677246,
          11.010000228881836,
          11.069999694824219,
          11.460000038146973,
          11.529999732971191,
          11.65999984741211,
          11.8100004196167,
          11.8100004196167,
          11.9399995803833,
          12,
          12.140000343322754,
          11.920000076293945,
          12.0600004196167,
          12.130000114440918,
          12.210000038146973,
          12.069999694824219,
          12.069999694824219,
          11.960000038146973,
          11.710000038146973,
          11.760000228881836,
          11.460000038146973,
          11.520000457763672,
          11.170000076293945,
          11.369999885559082,
          11.420000076293945,
          11.479999542236328,
          11.890000343322754,
          12.09000015258789,
          12.09000015258789,
          12.130000114440918,
          12.130000114440918,
          12.210000038146973,
          0
         ],
         "open": [
          9.680000305175781,
          9.5,
          9.75,
          10.079999923706055,
          9.75,
          10.140000343322754,
          9.90999984741211,
          10.279999732971191,
          10.220000267028809,
          10.539999961853027,
          10.779999732971191,
          10.84000015258789,
          10.850000381469727,
          10.470000267028809,
          10.210000038146973,
          10.40999984741211,
          10.520000457763672,
          10.779999732971191,
          11.369999885559082,
          10.920000076293945,
          10.609999656677246,
          10.699999809265137,
          11.470000267028809,
          11.119999885559082,
          11.220000267028809,
          11.130000114440918,
          11.300000190734863,
          10.880000114440918,
          11.109999656677246,
          11.100000381469727,
          11.529999732971191,
          11.630000114440918,
          11.699999809265137,
          11.9399995803833,
          12.130000114440918,
          12.399999618530273,
          12.09000015258789,
          12.220000267028809,
          12.050000190734863,
          12.470000267028809,
          12.170000076293945,
          12.220000267028809,
          12.520000457763672,
          12.229999542236328,
          12.239999771118164,
          12.180000305175781,
          11.800000190734863,
          11.699999809265137,
          11.670000076293945,
          11.5,
          11.399999618530273,
          11.670000076293945,
          11.630000114440918,
          11.899999618530273,
          12.109999656677246,
          12.270000457763672,
          12.1899995803833,
          12.300000190734863,
          12.300000190734863,
          0
         ],
         "showlegend": false,
         "type": "candlestick",
         "x": [
          "2020-11-11T00:00:00",
          "2020-11-12T00:00:00",
          "2020-11-13T00:00:00",
          "2020-11-16T00:00:00",
          "2020-11-17T00:00:00",
          "2020-11-18T00:00:00",
          "2020-11-19T00:00:00",
          "2020-11-23T00:00:00",
          "2020-11-24T00:00:00",
          "2020-11-25T00:00:00",
          "2020-11-26T00:00:00",
          "2020-11-27T00:00:00",
          "2020-11-30T00:00:00",
          "2020-12-01T00:00:00",
          "2020-12-02T00:00:00",
          "2020-12-03T00:00:00",
          "2020-12-04T00:00:00",
          "2020-12-07T00:00:00",
          "2020-12-08T00:00:00",
          "2020-12-09T00:00:00",
          "2020-12-10T00:00:00",
          "2020-12-11T00:00:00",
          "2020-12-14T00:00:00",
          "2020-12-15T00:00:00",
          "2020-12-16T00:00:00",
          "2020-12-17T00:00:00",
          "2020-12-18T00:00:00",
          "2020-12-21T00:00:00",
          "2020-12-22T00:00:00",
          "2020-12-23T00:00:00",
          "2020-12-28T00:00:00",
          "2020-12-29T00:00:00",
          "2020-12-30T00:00:00",
          "2021-01-04T00:00:00",
          "2021-01-05T00:00:00",
          "2021-01-06T00:00:00",
          "2021-01-07T00:00:00",
          "2021-01-08T00:00:00",
          "2021-01-11T00:00:00",
          "2021-01-12T00:00:00",
          "2021-01-13T00:00:00",
          "2021-01-14T00:00:00",
          "2021-01-15T00:00:00",
          "2021-01-18T00:00:00",
          "2021-01-19T00:00:00",
          "2021-01-20T00:00:00",
          "2021-01-21T00:00:00",
          "2021-01-22T00:00:00",
          "2021-01-26T00:00:00",
          "2021-01-27T00:00:00",
          "2021-01-28T00:00:00",
          "2021-01-29T00:00:00",
          "2021-02-01T00:00:00",
          "2021-02-02T00:00:00",
          "2021-02-03T00:00:00",
          "2021-02-04T00:00:00",
          "2021-02-05T00:00:00",
          "2021-02-08T00:00:00",
          "2021-02-09T00:00:00",
          "2021-02-10T00:00:00"
         ]
        }
       ],
       "layout": {
        "template": {
         "data": {
          "bar": [
           {
            "error_x": {
             "color": "#2a3f5f"
            },
            "error_y": {
             "color": "#2a3f5f"
            },
            "marker": {
             "line": {
              "color": "#E5ECF6",
              "width": 0.5
             }
            },
            "type": "bar"
           }
          ],
          "barpolar": [
           {
            "marker": {
             "line": {
              "color": "#E5ECF6",
              "width": 0.5
             }
            },
            "type": "barpolar"
           }
          ],
          "carpet": [
           {
            "aaxis": {
             "endlinecolor": "#2a3f5f",
             "gridcolor": "white",
             "linecolor": "white",
             "minorgridcolor": "white",
             "startlinecolor": "#2a3f5f"
            },
            "baxis": {
             "endlinecolor": "#2a3f5f",
             "gridcolor": "white",
             "linecolor": "white",
             "minorgridcolor": "white",
             "startlinecolor": "#2a3f5f"
            },
            "type": "carpet"
           }
          ],
          "choropleth": [
           {
            "colorbar": {
             "outlinewidth": 0,
             "ticks": ""
            },
            "type": "choropleth"
           }
          ],
          "contour": [
           {
            "colorbar": {
             "outlinewidth": 0,
             "ticks": ""
            },
            "colorscale": [
             [
              0,
              "#0d0887"
             ],
             [
              0.1111111111111111,
              "#46039f"
             ],
             [
              0.2222222222222222,
              "#7201a8"
             ],
             [
              0.3333333333333333,
              "#9c179e"
             ],
             [
              0.4444444444444444,
              "#bd3786"
             ],
             [
              0.5555555555555556,
              "#d8576b"
             ],
             [
              0.6666666666666666,
              "#ed7953"
             ],
             [
              0.7777777777777778,
              "#fb9f3a"
             ],
             [
              0.8888888888888888,
              "#fdca26"
             ],
             [
              1,
              "#f0f921"
             ]
            ],
            "type": "contour"
           }
          ],
          "contourcarpet": [
           {
            "colorbar": {
             "outlinewidth": 0,
             "ticks": ""
            },
            "type": "contourcarpet"
           }
          ],
          "heatmap": [
           {
            "colorbar": {
             "outlinewidth": 0,
             "ticks": ""
            },
            "colorscale": [
             [
              0,
              "#0d0887"
             ],
             [
              0.1111111111111111,
              "#46039f"
             ],
             [
              0.2222222222222222,
              "#7201a8"
             ],
             [
              0.3333333333333333,
              "#9c179e"
             ],
             [
              0.4444444444444444,
              "#bd3786"
             ],
             [
              0.5555555555555556,
              "#d8576b"
             ],
             [
              0.6666666666666666,
              "#ed7953"
             ],
             [
              0.7777777777777778,
              "#fb9f3a"
             ],
             [
              0.8888888888888888,
              "#fdca26"
             ],
             [
              1,
              "#f0f921"
             ]
            ],
            "type": "heatmap"
           }
          ],
          "heatmapgl": [
           {
            "colorbar": {
             "outlinewidth": 0,
             "ticks": ""
            },
            "colorscale": [
             [
              0,
              "#0d0887"
             ],
             [
              0.1111111111111111,
              "#46039f"
             ],
             [
              0.2222222222222222,
              "#7201a8"
             ],
             [
              0.3333333333333333,
              "#9c179e"
             ],
             [
              0.4444444444444444,
              "#bd3786"
             ],
             [
              0.5555555555555556,
              "#d8576b"
             ],
             [
              0.6666666666666666,
              "#ed7953"
             ],
             [
              0.7777777777777778,
              "#fb9f3a"
             ],
             [
              0.8888888888888888,
              "#fdca26"
             ],
             [
              1,
              "#f0f921"
             ]
            ],
            "type": "heatmapgl"
           }
          ],
          "histogram": [
           {
            "marker": {
             "colorbar": {
              "outlinewidth": 0,
              "ticks": ""
             }
            },
            "type": "histogram"
           }
          ],
          "histogram2d": [
           {
            "colorbar": {
             "outlinewidth": 0,
             "ticks": ""
            },
            "colorscale": [
             [
              0,
              "#0d0887"
             ],
             [
              0.1111111111111111,
              "#46039f"
             ],
             [
              0.2222222222222222,
              "#7201a8"
             ],
             [
              0.3333333333333333,
              "#9c179e"
             ],
             [
              0.4444444444444444,
              "#bd3786"
             ],
             [
              0.5555555555555556,
              "#d8576b"
             ],
             [
              0.6666666666666666,
              "#ed7953"
             ],
             [
              0.7777777777777778,
              "#fb9f3a"
             ],
             [
              0.8888888888888888,
              "#fdca26"
             ],
             [
              1,
              "#f0f921"
             ]
            ],
            "type": "histogram2d"
           }
          ],
          "histogram2dcontour": [
           {
            "colorbar": {
             "outlinewidth": 0,
             "ticks": ""
            },
            "colorscale": [
             [
              0,
              "#0d0887"
             ],
             [
              0.1111111111111111,
              "#46039f"
             ],
             [
              0.2222222222222222,
              "#7201a8"
             ],
             [
              0.3333333333333333,
              "#9c179e"
             ],
             [
              0.4444444444444444,
              "#bd3786"
             ],
             [
              0.5555555555555556,
              "#d8576b"
             ],
             [
              0.6666666666666666,
              "#ed7953"
             ],
             [
              0.7777777777777778,
              "#fb9f3a"
             ],
             [
              0.8888888888888888,
              "#fdca26"
             ],
             [
              1,
              "#f0f921"
             ]
            ],
            "type": "histogram2dcontour"
           }
          ],
          "mesh3d": [
           {
            "colorbar": {
             "outlinewidth": 0,
             "ticks": ""
            },
            "type": "mesh3d"
           }
          ],
          "parcoords": [
           {
            "line": {
             "colorbar": {
              "outlinewidth": 0,
              "ticks": ""
             }
            },
            "type": "parcoords"
           }
          ],
          "pie": [
           {
            "automargin": true,
            "type": "pie"
           }
          ],
          "scatter": [
           {
            "marker": {
             "colorbar": {
              "outlinewidth": 0,
              "ticks": ""
             }
            },
            "type": "scatter"
           }
          ],
          "scatter3d": [
           {
            "line": {
             "colorbar": {
              "outlinewidth": 0,
              "ticks": ""
             }
            },
            "marker": {
             "colorbar": {
              "outlinewidth": 0,
              "ticks": ""
             }
            },
            "type": "scatter3d"
           }
          ],
          "scattercarpet": [
           {
            "marker": {
             "colorbar": {
              "outlinewidth": 0,
              "ticks": ""
             }
            },
            "type": "scattercarpet"
           }
          ],
          "scattergeo": [
           {
            "marker": {
             "colorbar": {
              "outlinewidth": 0,
              "ticks": ""
             }
            },
            "type": "scattergeo"
           }
          ],
          "scattergl": [
           {
            "marker": {
             "colorbar": {
              "outlinewidth": 0,
              "ticks": ""
             }
            },
            "type": "scattergl"
           }
          ],
          "scattermapbox": [
           {
            "marker": {
             "colorbar": {
              "outlinewidth": 0,
              "ticks": ""
             }
            },
            "type": "scattermapbox"
           }
          ],
          "scatterpolar": [
           {
            "marker": {
             "colorbar": {
              "outlinewidth": 0,
              "ticks": ""
             }
            },
            "type": "scatterpolar"
           }
          ],
          "scatterpolargl": [
           {
            "marker": {
             "colorbar": {
              "outlinewidth": 0,
              "ticks": ""
             }
            },
            "type": "scatterpolargl"
           }
          ],
          "scatterternary": [
           {
            "marker": {
             "colorbar": {
              "outlinewidth": 0,
              "ticks": ""
             }
            },
            "type": "scatterternary"
           }
          ],
          "surface": [
           {
            "colorbar": {
             "outlinewidth": 0,
             "ticks": ""
            },
            "colorscale": [
             [
              0,
              "#0d0887"
             ],
             [
              0.1111111111111111,
              "#46039f"
             ],
             [
              0.2222222222222222,
              "#7201a8"
             ],
             [
              0.3333333333333333,
              "#9c179e"
             ],
             [
              0.4444444444444444,
              "#bd3786"
             ],
             [
              0.5555555555555556,
              "#d8576b"
             ],
             [
              0.6666666666666666,
              "#ed7953"
             ],
             [
              0.7777777777777778,
              "#fb9f3a"
             ],
             [
              0.8888888888888888,
              "#fdca26"
             ],
             [
              1,
              "#f0f921"
             ]
            ],
            "type": "surface"
           }
          ],
          "table": [
           {
            "cells": {
             "fill": {
              "color": "#EBF0F8"
             },
             "line": {
              "color": "white"
             }
            },
            "header": {
             "fill": {
              "color": "#C8D4E3"
             },
             "line": {
              "color": "white"
             }
            },
            "type": "table"
           }
          ]
         },
         "layout": {
          "annotationdefaults": {
           "arrowcolor": "#2a3f5f",
           "arrowhead": 0,
           "arrowwidth": 1
          },
          "coloraxis": {
           "colorbar": {
            "outlinewidth": 0,
            "ticks": ""
           }
          },
          "colorscale": {
           "diverging": [
            [
             0,
             "#8e0152"
            ],
            [
             0.1,
             "#c51b7d"
            ],
            [
             0.2,
             "#de77ae"
            ],
            [
             0.3,
             "#f1b6da"
            ],
            [
             0.4,
             "#fde0ef"
            ],
            [
             0.5,
             "#f7f7f7"
            ],
            [
             0.6,
             "#e6f5d0"
            ],
            [
             0.7,
             "#b8e186"
            ],
            [
             0.8,
             "#7fbc41"
            ],
            [
             0.9,
             "#4d9221"
            ],
            [
             1,
             "#276419"
            ]
           ],
           "sequential": [
            [
             0,
             "#0d0887"
            ],
            [
             0.1111111111111111,
             "#46039f"
            ],
            [
             0.2222222222222222,
             "#7201a8"
            ],
            [
             0.3333333333333333,
             "#9c179e"
            ],
            [
             0.4444444444444444,
             "#bd3786"
            ],
            [
             0.5555555555555556,
             "#d8576b"
            ],
            [
             0.6666666666666666,
             "#ed7953"
            ],
            [
             0.7777777777777778,
             "#fb9f3a"
            ],
            [
             0.8888888888888888,
             "#fdca26"
            ],
            [
             1,
             "#f0f921"
            ]
           ],
           "sequentialminus": [
            [
             0,
             "#0d0887"
            ],
            [
             0.1111111111111111,
             "#46039f"
            ],
            [
             0.2222222222222222,
             "#7201a8"
            ],
            [
             0.3333333333333333,
             "#9c179e"
            ],
            [
             0.4444444444444444,
             "#bd3786"
            ],
            [
             0.5555555555555556,
             "#d8576b"
            ],
            [
             0.6666666666666666,
             "#ed7953"
            ],
            [
             0.7777777777777778,
             "#fb9f3a"
            ],
            [
             0.8888888888888888,
             "#fdca26"
            ],
            [
             1,
             "#f0f921"
            ]
           ]
          },
          "colorway": [
           "#636efa",
           "#EF553B",
           "#00cc96",
           "#ab63fa",
           "#FFA15A",
           "#19d3f3",
           "#FF6692",
           "#B6E880",
           "#FF97FF",
           "#FECB52"
          ],
          "font": {
           "color": "#2a3f5f"
          },
          "geo": {
           "bgcolor": "white",
           "lakecolor": "white",
           "landcolor": "#E5ECF6",
           "showlakes": true,
           "showland": true,
           "subunitcolor": "white"
          },
          "hoverlabel": {
           "align": "left"
          },
          "hovermode": "closest",
          "mapbox": {
           "style": "light"
          },
          "paper_bgcolor": "white",
          "plot_bgcolor": "#E5ECF6",
          "polar": {
           "angularaxis": {
            "gridcolor": "white",
            "linecolor": "white",
            "ticks": ""
           },
           "bgcolor": "#E5ECF6",
           "radialaxis": {
            "gridcolor": "white",
            "linecolor": "white",
            "ticks": ""
           }
          },
          "scene": {
           "xaxis": {
            "backgroundcolor": "#E5ECF6",
            "gridcolor": "white",
            "gridwidth": 2,
            "linecolor": "white",
            "showbackground": true,
            "ticks": "",
            "zerolinecolor": "white"
           },
           "yaxis": {
            "backgroundcolor": "#E5ECF6",
            "gridcolor": "white",
            "gridwidth": 2,
            "linecolor": "white",
            "showbackground": true,
            "ticks": "",
            "zerolinecolor": "white"
           },
           "zaxis": {
            "backgroundcolor": "#E5ECF6",
            "gridcolor": "white",
            "gridwidth": 2,
            "linecolor": "white",
            "showbackground": true,
            "ticks": "",
            "zerolinecolor": "white"
           }
          },
          "shapedefaults": {
           "line": {
            "color": "#2a3f5f"
           }
          },
          "ternary": {
           "aaxis": {
            "gridcolor": "white",
            "linecolor": "white",
            "ticks": ""
           },
           "baxis": {
            "gridcolor": "white",
            "linecolor": "white",
            "ticks": ""
           },
           "bgcolor": "#E5ECF6",
           "caxis": {
            "gridcolor": "white",
            "linecolor": "white",
            "ticks": ""
           }
          },
          "title": {
           "x": 0.05
          },
          "xaxis": {
           "automargin": true,
           "gridcolor": "white",
           "linecolor": "white",
           "ticks": "",
           "title": {
            "standoff": 15
           },
           "zerolinecolor": "white",
           "zerolinewidth": 2
          },
          "yaxis": {
           "automargin": true,
           "gridcolor": "white",
           "linecolor": "white",
           "ticks": "",
           "title": {
            "standoff": 15
           },
           "zerolinecolor": "white",
           "zerolinewidth": 2
          }
         }
        },
        "xaxis": {
         "rangeslider": {
          "visible": false
         }
        }
       }
      },
      "text/html": [
       "<div>                            <div id=\"a5d7fbc3-15ea-465c-9cfa-c9626861501f\" class=\"plotly-graph-div\" style=\"height:525px; width:100%;\"></div>            <script type=\"text/javascript\">                require([\"plotly\"], function(Plotly) {                    window.PLOTLYENV=window.PLOTLYENV || {};                                    if (document.getElementById(\"a5d7fbc3-15ea-465c-9cfa-c9626861501f\")) {                    Plotly.newPlot(                        \"a5d7fbc3-15ea-465c-9cfa-c9626861501f\",                        [{\"close\": [9.449999809265137, 9.760000228881836, 9.880000114440918, 9.789999961853027, 10.079999923706055, 10.0600004196167, 10.470000267028809, 10.1899995803833, 10.5, 10.890000343322754, 10.819999694824219, 10.890000343322754, 10.350000381469727, 10.260000228881836, 10.390000343322754, 10.40999984741211, 10.6899995803833, 11.350000381469727, 10.819999694824219, 10.539999961853027, 10.710000038146973, 11.210000038146973, 11.119999885559082, 11.180000305175781, 11.130000114440918, 11.239999771118164, 11.199999809265137, 11.069999694824219, 11.069999694824219, 11.4399995803833, 11.510000228881836, 11.640000343322754, 11.850000381469727, 12.029999732971191, 12.399999618530273, 12.0, 12.029999732971191, 12.260000228881836, 12.289999961853027, 12.15999984741211, 12.180000305175781, 12.520000457763672, 12.170000076293945, 12.149999618530273, 12.130000114440918, 11.789999961853027, 11.829999923706055, 11.640000343322754, 11.59000015258789, 11.399999618530273, 11.770000457763672, 11.520000457763672, 11.770000457763672, 12.050000190734863, 12.25, 12.109999656677246, 12.359999656677246, 12.300000190734863, 12.449999809265137, 12.239999771118164], \"high\": [9.800000190734863, 10.34000015258789, 9.979999542236328, 10.199999809265137, 10.279999732971191, 10.579999923706055, 10.510000228881836, 10.34000015258789, 10.670000076293945, 10.890000343322754, 10.979999542236328, 11.109999656677246, 10.949999809265137, 10.619999885559082, 10.520000457763672, 10.470000267028809, 10.850000381469727, 11.520000457763672, 11.380000114440918, 10.970000267028809, 10.84000015258789, 11.25, 11.609999656677246, 11.319999694824219, 11.260000228881836, 11.369999885559082, 11.300000190734863, 11.25, 11.479999542236328, 11.5, 11.859999656677246, 11.970000267028809, 11.880000114440918, 12.260000228881836, 12.399999618530273, 12.430000305175781, 12.329999923706055, 12.550000190734863, 12.539999961853027, 12.479999542236328, 12.399999618530273, 12.739999771118164, 12.520000457763672, 12.40999984741211, 12.260000228881836, 12.220000267028809, 12.130000114440918, 11.710000038146973, 11.9399995803833, 11.680000305175781, 11.779999732971191, 11.829999923706055, 11.899999618530273, 12.239999771118164, 12.3100004196167, 12.369999885559082, 12.529999732971191, 12.489999771118164, 12.619999885559082, 0.0], \"low\": [9.449999809265137, 9.479999542236328, 9.680000305175781, 9.789999961853027, 9.649999618530273, 10.0600004196167, 9.850000381469727, 10.039999961853027, 10.170000076293945, 10.479999542236328, 10.710000038146973, 10.779999732971191, 10.350000381469727, 10.130000114440918, 10.210000038146973, 10.25, 10.4399995803833, 10.710000038146973, 10.739999771118164, 10.5, 10.380000114440918, 10.699999809265137, 11.100000381469727, 11.079999923706055, 10.890000343322754, 11.100000381469727, 11.130000114440918, 10.609999656677246, 11.010000228881836, 11.069999694824219, 11.460000038146973, 11.529999732971191, 11.65999984741211, 11.8100004196167, 11.8100004196167, 11.9399995803833, 12.0, 12.140000343322754, 11.920000076293945, 12.0600004196167, 12.130000114440918, 12.210000038146973, 12.069999694824219, 12.069999694824219, 11.960000038146973, 11.710000038146973, 11.760000228881836, 11.460000038146973, 11.520000457763672, 11.170000076293945, 11.369999885559082, 11.420000076293945, 11.479999542236328, 11.890000343322754, 12.09000015258789, 12.09000015258789, 12.130000114440918, 12.130000114440918, 12.210000038146973, 0.0], \"open\": [9.680000305175781, 9.5, 9.75, 10.079999923706055, 9.75, 10.140000343322754, 9.90999984741211, 10.279999732971191, 10.220000267028809, 10.539999961853027, 10.779999732971191, 10.84000015258789, 10.850000381469727, 10.470000267028809, 10.210000038146973, 10.40999984741211, 10.520000457763672, 10.779999732971191, 11.369999885559082, 10.920000076293945, 10.609999656677246, 10.699999809265137, 11.470000267028809, 11.119999885559082, 11.220000267028809, 11.130000114440918, 11.300000190734863, 10.880000114440918, 11.109999656677246, 11.100000381469727, 11.529999732971191, 11.630000114440918, 11.699999809265137, 11.9399995803833, 12.130000114440918, 12.399999618530273, 12.09000015258789, 12.220000267028809, 12.050000190734863, 12.470000267028809, 12.170000076293945, 12.220000267028809, 12.520000457763672, 12.229999542236328, 12.239999771118164, 12.180000305175781, 11.800000190734863, 11.699999809265137, 11.670000076293945, 11.5, 11.399999618530273, 11.670000076293945, 11.630000114440918, 11.899999618530273, 12.109999656677246, 12.270000457763672, 12.1899995803833, 12.300000190734863, 12.300000190734863, 0.0], \"showlegend\": false, \"type\": \"candlestick\", \"x\": [\"2020-11-11T00:00:00\", \"2020-11-12T00:00:00\", \"2020-11-13T00:00:00\", \"2020-11-16T00:00:00\", \"2020-11-17T00:00:00\", \"2020-11-18T00:00:00\", \"2020-11-19T00:00:00\", \"2020-11-23T00:00:00\", \"2020-11-24T00:00:00\", \"2020-11-25T00:00:00\", \"2020-11-26T00:00:00\", \"2020-11-27T00:00:00\", \"2020-11-30T00:00:00\", \"2020-12-01T00:00:00\", \"2020-12-02T00:00:00\", \"2020-12-03T00:00:00\", \"2020-12-04T00:00:00\", \"2020-12-07T00:00:00\", \"2020-12-08T00:00:00\", \"2020-12-09T00:00:00\", \"2020-12-10T00:00:00\", \"2020-12-11T00:00:00\", \"2020-12-14T00:00:00\", \"2020-12-15T00:00:00\", \"2020-12-16T00:00:00\", \"2020-12-17T00:00:00\", \"2020-12-18T00:00:00\", \"2020-12-21T00:00:00\", \"2020-12-22T00:00:00\", \"2020-12-23T00:00:00\", \"2020-12-28T00:00:00\", \"2020-12-29T00:00:00\", \"2020-12-30T00:00:00\", \"2021-01-04T00:00:00\", \"2021-01-05T00:00:00\", \"2021-01-06T00:00:00\", \"2021-01-07T00:00:00\", \"2021-01-08T00:00:00\", \"2021-01-11T00:00:00\", \"2021-01-12T00:00:00\", \"2021-01-13T00:00:00\", \"2021-01-14T00:00:00\", \"2021-01-15T00:00:00\", \"2021-01-18T00:00:00\", \"2021-01-19T00:00:00\", \"2021-01-20T00:00:00\", \"2021-01-21T00:00:00\", \"2021-01-22T00:00:00\", \"2021-01-26T00:00:00\", \"2021-01-27T00:00:00\", \"2021-01-28T00:00:00\", \"2021-01-29T00:00:00\", \"2021-02-01T00:00:00\", \"2021-02-02T00:00:00\", \"2021-02-03T00:00:00\", \"2021-02-04T00:00:00\", \"2021-02-05T00:00:00\", \"2021-02-08T00:00:00\", \"2021-02-09T00:00:00\", \"2021-02-10T00:00:00\"]}],                        {\"template\": {\"data\": {\"bar\": [{\"error_x\": {\"color\": \"#2a3f5f\"}, \"error_y\": {\"color\": \"#2a3f5f\"}, \"marker\": {\"line\": {\"color\": \"#E5ECF6\", \"width\": 0.5}}, \"type\": \"bar\"}], \"barpolar\": [{\"marker\": {\"line\": {\"color\": \"#E5ECF6\", \"width\": 0.5}}, \"type\": \"barpolar\"}], \"carpet\": [{\"aaxis\": {\"endlinecolor\": \"#2a3f5f\", \"gridcolor\": \"white\", \"linecolor\": \"white\", \"minorgridcolor\": \"white\", \"startlinecolor\": \"#2a3f5f\"}, \"baxis\": {\"endlinecolor\": \"#2a3f5f\", \"gridcolor\": \"white\", \"linecolor\": \"white\", \"minorgridcolor\": \"white\", \"startlinecolor\": \"#2a3f5f\"}, \"type\": \"carpet\"}], \"choropleth\": [{\"colorbar\": {\"outlinewidth\": 0, \"ticks\": \"\"}, \"type\": \"choropleth\"}], \"contour\": [{\"colorbar\": {\"outlinewidth\": 0, \"ticks\": \"\"}, \"colorscale\": [[0.0, \"#0d0887\"], [0.1111111111111111, \"#46039f\"], [0.2222222222222222, \"#7201a8\"], [0.3333333333333333, \"#9c179e\"], [0.4444444444444444, \"#bd3786\"], [0.5555555555555556, \"#d8576b\"], [0.6666666666666666, \"#ed7953\"], [0.7777777777777778, \"#fb9f3a\"], [0.8888888888888888, \"#fdca26\"], [1.0, \"#f0f921\"]], \"type\": \"contour\"}], \"contourcarpet\": [{\"colorbar\": {\"outlinewidth\": 0, \"ticks\": \"\"}, \"type\": \"contourcarpet\"}], \"heatmap\": [{\"colorbar\": {\"outlinewidth\": 0, \"ticks\": \"\"}, \"colorscale\": [[0.0, \"#0d0887\"], [0.1111111111111111, \"#46039f\"], [0.2222222222222222, \"#7201a8\"], [0.3333333333333333, \"#9c179e\"], [0.4444444444444444, \"#bd3786\"], [0.5555555555555556, \"#d8576b\"], [0.6666666666666666, \"#ed7953\"], [0.7777777777777778, \"#fb9f3a\"], [0.8888888888888888, \"#fdca26\"], [1.0, \"#f0f921\"]], \"type\": \"heatmap\"}], \"heatmapgl\": [{\"colorbar\": {\"outlinewidth\": 0, \"ticks\": \"\"}, \"colorscale\": [[0.0, \"#0d0887\"], [0.1111111111111111, \"#46039f\"], [0.2222222222222222, \"#7201a8\"], [0.3333333333333333, \"#9c179e\"], [0.4444444444444444, \"#bd3786\"], [0.5555555555555556, \"#d8576b\"], [0.6666666666666666, \"#ed7953\"], [0.7777777777777778, \"#fb9f3a\"], [0.8888888888888888, \"#fdca26\"], [1.0, \"#f0f921\"]], \"type\": \"heatmapgl\"}], \"histogram\": [{\"marker\": {\"colorbar\": {\"outlinewidth\": 0, \"ticks\": \"\"}}, \"type\": \"histogram\"}], \"histogram2d\": [{\"colorbar\": {\"outlinewidth\": 0, \"ticks\": \"\"}, \"colorscale\": [[0.0, \"#0d0887\"], [0.1111111111111111, \"#46039f\"], [0.2222222222222222, \"#7201a8\"], [0.3333333333333333, \"#9c179e\"], [0.4444444444444444, \"#bd3786\"], [0.5555555555555556, \"#d8576b\"], [0.6666666666666666, \"#ed7953\"], [0.7777777777777778, \"#fb9f3a\"], [0.8888888888888888, \"#fdca26\"], [1.0, \"#f0f921\"]], \"type\": \"histogram2d\"}], \"histogram2dcontour\": [{\"colorbar\": {\"outlinewidth\": 0, \"ticks\": \"\"}, \"colorscale\": [[0.0, \"#0d0887\"], [0.1111111111111111, \"#46039f\"], [0.2222222222222222, \"#7201a8\"], [0.3333333333333333, \"#9c179e\"], [0.4444444444444444, \"#bd3786\"], [0.5555555555555556, \"#d8576b\"], [0.6666666666666666, \"#ed7953\"], [0.7777777777777778, \"#fb9f3a\"], [0.8888888888888888, \"#fdca26\"], [1.0, \"#f0f921\"]], \"type\": \"histogram2dcontour\"}], \"mesh3d\": [{\"colorbar\": {\"outlinewidth\": 0, \"ticks\": \"\"}, \"type\": \"mesh3d\"}], \"parcoords\": [{\"line\": {\"colorbar\": {\"outlinewidth\": 0, \"ticks\": \"\"}}, \"type\": \"parcoords\"}], \"pie\": [{\"automargin\": true, \"type\": \"pie\"}], \"scatter\": [{\"marker\": {\"colorbar\": {\"outlinewidth\": 0, \"ticks\": \"\"}}, \"type\": \"scatter\"}], \"scatter3d\": [{\"line\": {\"colorbar\": {\"outlinewidth\": 0, \"ticks\": \"\"}}, \"marker\": {\"colorbar\": {\"outlinewidth\": 0, \"ticks\": \"\"}}, \"type\": \"scatter3d\"}], \"scattercarpet\": [{\"marker\": {\"colorbar\": {\"outlinewidth\": 0, \"ticks\": \"\"}}, \"type\": \"scattercarpet\"}], \"scattergeo\": [{\"marker\": {\"colorbar\": {\"outlinewidth\": 0, \"ticks\": \"\"}}, \"type\": \"scattergeo\"}], \"scattergl\": [{\"marker\": {\"colorbar\": {\"outlinewidth\": 0, \"ticks\": \"\"}}, \"type\": \"scattergl\"}], \"scattermapbox\": [{\"marker\": {\"colorbar\": {\"outlinewidth\": 0, \"ticks\": \"\"}}, \"type\": \"scattermapbox\"}], \"scatterpolar\": [{\"marker\": {\"colorbar\": {\"outlinewidth\": 0, \"ticks\": \"\"}}, \"type\": \"scatterpolar\"}], \"scatterpolargl\": [{\"marker\": {\"colorbar\": {\"outlinewidth\": 0, \"ticks\": \"\"}}, \"type\": \"scatterpolargl\"}], \"scatterternary\": [{\"marker\": {\"colorbar\": {\"outlinewidth\": 0, \"ticks\": \"\"}}, \"type\": \"scatterternary\"}], \"surface\": [{\"colorbar\": {\"outlinewidth\": 0, \"ticks\": \"\"}, \"colorscale\": [[0.0, \"#0d0887\"], [0.1111111111111111, \"#46039f\"], [0.2222222222222222, \"#7201a8\"], [0.3333333333333333, \"#9c179e\"], [0.4444444444444444, \"#bd3786\"], [0.5555555555555556, \"#d8576b\"], [0.6666666666666666, \"#ed7953\"], [0.7777777777777778, \"#fb9f3a\"], [0.8888888888888888, \"#fdca26\"], [1.0, \"#f0f921\"]], \"type\": \"surface\"}], \"table\": [{\"cells\": {\"fill\": {\"color\": \"#EBF0F8\"}, \"line\": {\"color\": \"white\"}}, \"header\": {\"fill\": {\"color\": \"#C8D4E3\"}, \"line\": {\"color\": \"white\"}}, \"type\": \"table\"}]}, \"layout\": {\"annotationdefaults\": {\"arrowcolor\": \"#2a3f5f\", \"arrowhead\": 0, \"arrowwidth\": 1}, \"coloraxis\": {\"colorbar\": {\"outlinewidth\": 0, \"ticks\": \"\"}}, \"colorscale\": {\"diverging\": [[0, \"#8e0152\"], [0.1, \"#c51b7d\"], [0.2, \"#de77ae\"], [0.3, \"#f1b6da\"], [0.4, \"#fde0ef\"], [0.5, \"#f7f7f7\"], [0.6, \"#e6f5d0\"], [0.7, \"#b8e186\"], [0.8, \"#7fbc41\"], [0.9, \"#4d9221\"], [1, \"#276419\"]], \"sequential\": [[0.0, \"#0d0887\"], [0.1111111111111111, \"#46039f\"], [0.2222222222222222, \"#7201a8\"], [0.3333333333333333, \"#9c179e\"], [0.4444444444444444, \"#bd3786\"], [0.5555555555555556, \"#d8576b\"], [0.6666666666666666, \"#ed7953\"], [0.7777777777777778, \"#fb9f3a\"], [0.8888888888888888, \"#fdca26\"], [1.0, \"#f0f921\"]], \"sequentialminus\": [[0.0, \"#0d0887\"], [0.1111111111111111, \"#46039f\"], [0.2222222222222222, \"#7201a8\"], [0.3333333333333333, \"#9c179e\"], [0.4444444444444444, \"#bd3786\"], [0.5555555555555556, \"#d8576b\"], [0.6666666666666666, \"#ed7953\"], [0.7777777777777778, \"#fb9f3a\"], [0.8888888888888888, \"#fdca26\"], [1.0, \"#f0f921\"]]}, \"colorway\": [\"#636efa\", \"#EF553B\", \"#00cc96\", \"#ab63fa\", \"#FFA15A\", \"#19d3f3\", \"#FF6692\", \"#B6E880\", \"#FF97FF\", \"#FECB52\"], \"font\": {\"color\": \"#2a3f5f\"}, \"geo\": {\"bgcolor\": \"white\", \"lakecolor\": \"white\", \"landcolor\": \"#E5ECF6\", \"showlakes\": true, \"showland\": true, \"subunitcolor\": \"white\"}, \"hoverlabel\": {\"align\": \"left\"}, \"hovermode\": \"closest\", \"mapbox\": {\"style\": \"light\"}, \"paper_bgcolor\": \"white\", \"plot_bgcolor\": \"#E5ECF6\", \"polar\": {\"angularaxis\": {\"gridcolor\": \"white\", \"linecolor\": \"white\", \"ticks\": \"\"}, \"bgcolor\": \"#E5ECF6\", \"radialaxis\": {\"gridcolor\": \"white\", \"linecolor\": \"white\", \"ticks\": \"\"}}, \"scene\": {\"xaxis\": {\"backgroundcolor\": \"#E5ECF6\", \"gridcolor\": \"white\", \"gridwidth\": 2, \"linecolor\": \"white\", \"showbackground\": true, \"ticks\": \"\", \"zerolinecolor\": \"white\"}, \"yaxis\": {\"backgroundcolor\": \"#E5ECF6\", \"gridcolor\": \"white\", \"gridwidth\": 2, \"linecolor\": \"white\", \"showbackground\": true, \"ticks\": \"\", \"zerolinecolor\": \"white\"}, \"zaxis\": {\"backgroundcolor\": \"#E5ECF6\", \"gridcolor\": \"white\", \"gridwidth\": 2, \"linecolor\": \"white\", \"showbackground\": true, \"ticks\": \"\", \"zerolinecolor\": \"white\"}}, \"shapedefaults\": {\"line\": {\"color\": \"#2a3f5f\"}}, \"ternary\": {\"aaxis\": {\"gridcolor\": \"white\", \"linecolor\": \"white\", \"ticks\": \"\"}, \"baxis\": {\"gridcolor\": \"white\", \"linecolor\": \"white\", \"ticks\": \"\"}, \"bgcolor\": \"#E5ECF6\", \"caxis\": {\"gridcolor\": \"white\", \"linecolor\": \"white\", \"ticks\": \"\"}}, \"title\": {\"x\": 0.05}, \"xaxis\": {\"automargin\": true, \"gridcolor\": \"white\", \"linecolor\": \"white\", \"ticks\": \"\", \"title\": {\"standoff\": 15}, \"zerolinecolor\": \"white\", \"zerolinewidth\": 2}, \"yaxis\": {\"automargin\": true, \"gridcolor\": \"white\", \"linecolor\": \"white\", \"ticks\": \"\", \"title\": {\"standoff\": 15}, \"zerolinecolor\": \"white\", \"zerolinewidth\": 2}}}, \"xaxis\": {\"rangeslider\": {\"visible\": false}}},                        {\"responsive\": true}                    ).then(function(){\n",
       "                            \n",
       "var gd = document.getElementById('a5d7fbc3-15ea-465c-9cfa-c9626861501f');\n",
       "var x = new MutationObserver(function (mutations, observer) {{\n",
       "        var display = window.getComputedStyle(gd).display;\n",
       "        if (!display || display === 'none') {{\n",
       "            console.log([gd, 'removed!']);\n",
       "            Plotly.purge(gd);\n",
       "            observer.disconnect();\n",
       "        }}\n",
       "}});\n",
       "\n",
       "// Listen for the removal of the full notebook cells\n",
       "var notebookContainer = gd.closest('#notebook-container');\n",
       "if (notebookContainer) {{\n",
       "    x.observe(notebookContainer, {childList: true});\n",
       "}}\n",
       "\n",
       "// Listen for the clearing of the current output cell\n",
       "var outputEl = gd.closest('.output');\n",
       "if (outputEl) {{\n",
       "    x.observe(outputEl, {childList: true});\n",
       "}}\n",
       "\n",
       "                        })                };                });            </script>        </div>"
      ]
     },
     "metadata": {},
     "output_type": "display_data"
    }
   ],
   "source": [
    "Candles = invest.candles(Consultar)\n",
    "Candles"
   ]
  },
  {
   "cell_type": "code",
   "execution_count": null,
   "metadata": {},
   "outputs": [],
   "source": []
  }
 ],
 "metadata": {
  "kernelspec": {
   "display_name": "Python 3",
   "language": "python",
   "name": "python3"
  },
  "language_info": {
   "codemirror_mode": {
    "name": "ipython",
    "version": 3
   },
   "file_extension": ".py",
   "mimetype": "text/x-python",
   "name": "python",
   "nbconvert_exporter": "python",
   "pygments_lexer": "ipython3",
   "version": "3.8.3"
  }
 },
 "nbformat": 4,
 "nbformat_minor": 4
}
